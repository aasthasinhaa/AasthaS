{
  "nbformat": 4,
  "nbformat_minor": 0,
  "metadata": {
    "colab": {
      "provenance": []
    },
    "kernelspec": {
      "name": "python3",
      "display_name": "Python 3"
    },
    "language_info": {
      "name": "python"
    }
  },
  "cells": [
    {
      "cell_type": "code",
      "execution_count": 1,
      "metadata": {
        "colab": {
          "base_uri": "https://localhost:8080/"
        },
        "id": "3XRiTZ_zzZo0",
        "outputId": "ec6b8761-95e7-47ef-db71-a45276e8459d"
      },
      "outputs": [
        {
          "output_type": "execute_result",
          "data": {
            "text/plain": [
              "-1.666666666666667"
            ]
          },
          "metadata": {},
          "execution_count": 1
        }
      ],
      "source": [
        "5+3/9-7"
      ]
    },
    {
      "cell_type": "code",
      "source": [
        "print(\"hello\" +\"world\")\n"
      ],
      "metadata": {
        "colab": {
          "base_uri": "https://localhost:8080/"
        },
        "id": "jAgLueI00lYA",
        "outputId": "0c24c20c-f747-40e3-9906-b3c1ad34924f"
      },
      "execution_count": 5,
      "outputs": [
        {
          "output_type": "stream",
          "name": "stdout",
          "text": [
            "helloworld\n"
          ]
        }
      ]
    },
    {
      "cell_type": "code",
      "source": [
        "first = \"AASTHA\"\n",
        "second = \"SINHA\"\n",
        "print(first + \" \"+second)"
      ],
      "metadata": {
        "colab": {
          "base_uri": "https://localhost:8080/"
        },
        "id": "SUmYR8EO12_G",
        "outputId": "794250e3-7181-488d-c868-014287bb8ff5"
      },
      "execution_count": 6,
      "outputs": [
        {
          "output_type": "stream",
          "name": "stdout",
          "text": [
            "AASTHA SINHA\n"
          ]
        }
      ]
    },
    {
      "cell_type": "code",
      "source": [
        "a = 3\n",
        "b = input()\n",
        "print(b)\n"
      ],
      "metadata": {
        "colab": {
          "base_uri": "https://localhost:8080/"
        },
        "id": "07sM8hIF3a01",
        "outputId": "c9ad9f96-c0dc-4434-d39a-ccda364ac610"
      },
      "execution_count": 12,
      "outputs": [
        {
          "output_type": "stream",
          "name": "stdout",
          "text": [
            "999999999\n",
            "999999999\n"
          ]
        }
      ]
    },
    {
      "cell_type": "code",
      "source": [
        "a = 10000000\n",
        "b = 99999999\n",
        "print(a+b)"
      ],
      "metadata": {
        "colab": {
          "base_uri": "https://localhost:8080/"
        },
        "id": "YU4XUKV-2jfm",
        "outputId": "0b2397f8-cac9-436a-aa41-d3d07eda30b9"
      },
      "execution_count": 7,
      "outputs": [
        {
          "output_type": "stream",
          "name": "stdout",
          "text": [
            "109999999\n"
          ]
        }
      ]
    },
    {
      "cell_type": "code",
      "source": [
        "a = 9\n",
        "b = 9\n",
        "print(\"a\" + \"b\")"
      ],
      "metadata": {
        "colab": {
          "base_uri": "https://localhost:8080/"
        },
        "id": "RYC1a9w02vd2",
        "outputId": "38dd66d0-8e1c-4bfb-fbea-383cab564d27"
      },
      "execution_count": 8,
      "outputs": [
        {
          "output_type": "stream",
          "name": "stdout",
          "text": [
            "ab\n"
          ]
        }
      ]
    },
    {
      "cell_type": "code",
      "source": [
        "a = 4321\n",
        "b = int(input(\"Enter the value of b::::::::::::\"))\n",
        "print(b/6)\n",
        "print(b//6)"
      ],
      "metadata": {
        "colab": {
          "base_uri": "https://localhost:8080/"
        },
        "id": "Pcv5GbFl4YK3",
        "outputId": "8837118e-fa0f-410b-a3bb-5a6862fb7f32"
      },
      "execution_count": 15,
      "outputs": [
        {
          "output_type": "stream",
          "name": "stdout",
          "text": [
            "Enter the value of b::::::::::::888\n",
            "148.0\n",
            "148\n"
          ]
        }
      ]
    },
    {
      "cell_type": "code",
      "source": [
        "p = int(input(\"Enter the value of p::::::::::::\"))\n",
        "r = int(input(\"Enter the value of r::::::::::::\"))\n",
        "t = int(input(\"Enter the value of t::::::::::::\"))\n",
        "print(p*r*t/100)"
      ],
      "metadata": {
        "colab": {
          "base_uri": "https://localhost:8080/"
        },
        "id": "IuVDOMgz5a4L",
        "outputId": "7dd6a312-1b3c-4ef6-a786-a72e23c9ab0a"
      },
      "execution_count": 17,
      "outputs": [
        {
          "output_type": "stream",
          "name": "stdout",
          "text": [
            "Enter the value of p::::::::::::9\n",
            "Enter the value of r::::::::::::8\n",
            "Enter the value of t::::::::::::7\n",
            "5.04\n"
          ]
        }
      ]
    },
    {
      "cell_type": "code",
      "source": [
        "a = int(input(\"Enter value of a\"))\n",
        "b = int(input(\"Enter value of b\"))\n",
        "c = int(input(\"Enter value of c\"))\n",
        "s = (a+b+c)/2\n",
        "area = (s*(s-a)*(s-b)*(s-c))**0.5\n",
        "print(\"Area of triangle\",area)\n",
        "print (\"Perimeter of triangle\",s)\n"
      ],
      "metadata": {
        "colab": {
          "base_uri": "https://localhost:8080/"
        },
        "id": "ZIOVYt3678hF",
        "outputId": "9c415e5f-5544-48dd-82a4-fc4fb0bf7dd6"
      },
      "execution_count": 23,
      "outputs": [
        {
          "output_type": "stream",
          "name": "stdout",
          "text": [
            "Enter value of a6\n",
            "Enter value of b7\n",
            "Enter value of c8\n",
            "Area of triangle 20.33316256758894\n",
            "Perimeter of triangle 10.5\n"
          ]
        }
      ]
    }
  ]
}